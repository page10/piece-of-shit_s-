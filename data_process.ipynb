{
 "metadata": {
  "language_info": {
   "codemirror_mode": {
    "name": "ipython",
    "version": 3
   },
   "file_extension": ".py",
   "mimetype": "text/x-python",
   "name": "python",
   "nbconvert_exporter": "python",
   "pygments_lexer": "ipython3",
   "version": "3.7.9-final"
  },
  "orig_nbformat": 2,
  "kernelspec": {
   "name": "python3",
   "display_name": "Python 3.7.9 64-bit",
   "metadata": {
    "interpreter": {
     "hash": "57baa5815c940fdaff4d14510622de9616cae602444507ba5d0b6727c008cbd6"
    }
   }
  }
 },
 "nbformat": 4,
 "nbformat_minor": 2,
 "cells": [
  {
   "cell_type": "code",
   "execution_count": 3,
   "metadata": {},
   "outputs": [],
   "source": [
    "import pandas as pd \n",
    "import numpy as np "
   ]
  },
  {
   "cell_type": "code",
   "execution_count": 18,
   "metadata": {},
   "outputs": [
    {
     "output_type": "execute_result",
     "data": {
      "text/plain": [
       "       Tuitranportpoint     1     2     3     4     5     6     7     8     9  \\\n",
       "count              5003  5003  5003  5003  5003  5003  5003  5003  5003  5003   \n",
       "unique             5003  4394  4384  4384  4385  4384  4385  4398  4384  4266   \n",
       "top       2018/6/1 9:20   100   100   100   100   100   100   100   100   100   \n",
       "freq                  1   510   510   510   510   510   510   510   510   510   \n",
       "\n",
       "        ...  1095  1096  1097  1098  1099  1100  1101  1102  1103  1104  \n",
       "count   ...  5003  5003  5003  5003  5003  5003  5003  5003  5003  5003  \n",
       "unique  ...  4399  4399  4398  4398  4404  4403  4400  4399  4402  4403  \n",
       "top     ...   100   100   100   100   100   100   100   100   100   100  \n",
       "freq    ...   510   510   510   510   510   510   510   510   510   510  \n",
       "\n",
       "[4 rows x 1105 columns]"
      ],
      "text/html": "<div>\n<style scoped>\n    .dataframe tbody tr th:only-of-type {\n        vertical-align: middle;\n    }\n\n    .dataframe tbody tr th {\n        vertical-align: top;\n    }\n\n    .dataframe thead th {\n        text-align: right;\n    }\n</style>\n<table border=\"1\" class=\"dataframe\">\n  <thead>\n    <tr style=\"text-align: right;\">\n      <th></th>\n      <th>Tuitranportpoint</th>\n      <th>1</th>\n      <th>2</th>\n      <th>3</th>\n      <th>4</th>\n      <th>5</th>\n      <th>6</th>\n      <th>7</th>\n      <th>8</th>\n      <th>9</th>\n      <th>...</th>\n      <th>1095</th>\n      <th>1096</th>\n      <th>1097</th>\n      <th>1098</th>\n      <th>1099</th>\n      <th>1100</th>\n      <th>1101</th>\n      <th>1102</th>\n      <th>1103</th>\n      <th>1104</th>\n    </tr>\n  </thead>\n  <tbody>\n    <tr>\n      <th>count</th>\n      <td>5003</td>\n      <td>5003</td>\n      <td>5003</td>\n      <td>5003</td>\n      <td>5003</td>\n      <td>5003</td>\n      <td>5003</td>\n      <td>5003</td>\n      <td>5003</td>\n      <td>5003</td>\n      <td>...</td>\n      <td>5003</td>\n      <td>5003</td>\n      <td>5003</td>\n      <td>5003</td>\n      <td>5003</td>\n      <td>5003</td>\n      <td>5003</td>\n      <td>5003</td>\n      <td>5003</td>\n      <td>5003</td>\n    </tr>\n    <tr>\n      <th>unique</th>\n      <td>5003</td>\n      <td>4394</td>\n      <td>4384</td>\n      <td>4384</td>\n      <td>4385</td>\n      <td>4384</td>\n      <td>4385</td>\n      <td>4398</td>\n      <td>4384</td>\n      <td>4266</td>\n      <td>...</td>\n      <td>4399</td>\n      <td>4399</td>\n      <td>4398</td>\n      <td>4398</td>\n      <td>4404</td>\n      <td>4403</td>\n      <td>4400</td>\n      <td>4399</td>\n      <td>4402</td>\n      <td>4403</td>\n    </tr>\n    <tr>\n      <th>top</th>\n      <td>2018/6/1 9:20</td>\n      <td>100</td>\n      <td>100</td>\n      <td>100</td>\n      <td>100</td>\n      <td>100</td>\n      <td>100</td>\n      <td>100</td>\n      <td>100</td>\n      <td>100</td>\n      <td>...</td>\n      <td>100</td>\n      <td>100</td>\n      <td>100</td>\n      <td>100</td>\n      <td>100</td>\n      <td>100</td>\n      <td>100</td>\n      <td>100</td>\n      <td>100</td>\n      <td>100</td>\n    </tr>\n    <tr>\n      <th>freq</th>\n      <td>1</td>\n      <td>510</td>\n      <td>510</td>\n      <td>510</td>\n      <td>510</td>\n      <td>510</td>\n      <td>510</td>\n      <td>510</td>\n      <td>510</td>\n      <td>510</td>\n      <td>...</td>\n      <td>510</td>\n      <td>510</td>\n      <td>510</td>\n      <td>510</td>\n      <td>510</td>\n      <td>510</td>\n      <td>510</td>\n      <td>510</td>\n      <td>510</td>\n      <td>510</td>\n    </tr>\n  </tbody>\n</table>\n<p>4 rows × 1105 columns</p>\n</div>"
     },
     "metadata": {},
     "execution_count": 18
    }
   ],
   "source": [
    "whole_data = pd.read_csv('D:\\DHI\\\\finalMatch\\dataProcess\\\\tuitransportpoint.csv')  #整个大csv全读进来 这里读谁改谁\n",
    "whole_data.describe()"
   ]
  },
  {
   "cell_type": "code",
   "execution_count": 10,
   "metadata": {},
   "outputs": [
    {
     "output_type": "execute_result",
     "data": {
      "text/plain": [
       "  150transportPoint                              1  \\\n",
       "0              Time  : Concentration - component 1   \n",
       "1              Unit                         100201   \n",
       "2     2018/1/1 0:00                            100   \n",
       "3     2018/1/1 0:50                            100   \n",
       "4     2018/1/1 1:40                            100   \n",
       "5     2018/1/1 2:30                            100   \n",
       "6     2018/1/1 3:20                            100   \n",
       "7     2018/1/1 4:10                            100   \n",
       "8     2018/1/1 5:00                            100   \n",
       "9     2018/1/1 5:50                            100   \n",
       "\n",
       "                               2                              3  \\\n",
       "0  : Concentration - component 1  : Concentration - component 1   \n",
       "1                          99000                              0   \n",
       "2                            100                            100   \n",
       "3                            100                            100   \n",
       "4                            100                            100   \n",
       "5                            100                            100   \n",
       "6                            100                            100   \n",
       "7                            100                            100   \n",
       "8                            100                            100   \n",
       "9                            100                            100   \n",
       "\n",
       "                               4                              5  \\\n",
       "0  : Concentration - component 1  : Concentration - component 1   \n",
       "1                         100201                          99000   \n",
       "2                            100                            100   \n",
       "3                            100                            100   \n",
       "4                            100                            100   \n",
       "5                            100                            100   \n",
       "6                            100                            100   \n",
       "7                            100                            100   \n",
       "8                            100                            100   \n",
       "9                            100                            100   \n",
       "\n",
       "                               6                              7  \\\n",
       "0  : Concentration - component 1  : Concentration - component 1   \n",
       "1                              0                         100201   \n",
       "2                            100                            100   \n",
       "3                            100                            100   \n",
       "4                            100                            100   \n",
       "5                            100                            100   \n",
       "6                            100                            100   \n",
       "7                            100                            100   \n",
       "8                            100                            100   \n",
       "9                            100                            100   \n",
       "\n",
       "                               8                              9  ...  \\\n",
       "0  : Concentration - component 1  : Concentration - component 1  ...   \n",
       "1                          99000                              0  ...   \n",
       "2                            100                            100  ...   \n",
       "3                            100                            100  ...   \n",
       "4                            100                            100  ...   \n",
       "5                            100                            100  ...   \n",
       "6                            100                            100  ...   \n",
       "7                            100                            100  ...   \n",
       "8                            100                            100  ...   \n",
       "9                            100                            100  ...   \n",
       "\n",
       "                            1095                           1096  \\\n",
       "0  : Concentration - component 1  : Concentration - component 1   \n",
       "1                              0                         100201   \n",
       "2                            100                            100   \n",
       "3                            100                            100   \n",
       "4                            100                            100   \n",
       "5                            100                            100   \n",
       "6                            100                            100   \n",
       "7                            100                            100   \n",
       "8                            100                            100   \n",
       "9                            100                            100   \n",
       "\n",
       "                            1097                           1098  \\\n",
       "0  : Concentration - component 1  : Concentration - component 1   \n",
       "1                          99000                              0   \n",
       "2                            100                            100   \n",
       "3                            100                            100   \n",
       "4                            100                            100   \n",
       "5                            100                            100   \n",
       "6                            100                            100   \n",
       "7                            100                            100   \n",
       "8                            100                            100   \n",
       "9                            100                            100   \n",
       "\n",
       "                            1099                           1100  \\\n",
       "0  : Concentration - component 1  : Concentration - component 1   \n",
       "1                         100201                          99000   \n",
       "2                            100                            100   \n",
       "3                            100                            100   \n",
       "4                            100                            100   \n",
       "5                            100                            100   \n",
       "6                            100                            100   \n",
       "7                            100                            100   \n",
       "8                            100                            100   \n",
       "9                            100                            100   \n",
       "\n",
       "                            1101                           1102  \\\n",
       "0  : Concentration - component 1  : Concentration - component 1   \n",
       "1                              0                         100201   \n",
       "2                            100                            100   \n",
       "3                            100                            100   \n",
       "4                            100                            100   \n",
       "5                            100                            100   \n",
       "6                            100                            100   \n",
       "7                            100                            100   \n",
       "8                            100                            100   \n",
       "9                            100                            100   \n",
       "\n",
       "                            1103                           1104  \n",
       "0  : Concentration - component 1  : Concentration - component 1  \n",
       "1                          99000                              0  \n",
       "2                            100                            100  \n",
       "3                            100                            100  \n",
       "4                            100                            100  \n",
       "5                            100                            100  \n",
       "6                            100                            100  \n",
       "7                            100                            100  \n",
       "8                            100                            100  \n",
       "9                            100                            100  \n",
       "\n",
       "[10 rows x 1105 columns]"
      ],
      "text/html": "<div>\n<style scoped>\n    .dataframe tbody tr th:only-of-type {\n        vertical-align: middle;\n    }\n\n    .dataframe tbody tr th {\n        vertical-align: top;\n    }\n\n    .dataframe thead th {\n        text-align: right;\n    }\n</style>\n<table border=\"1\" class=\"dataframe\">\n  <thead>\n    <tr style=\"text-align: right;\">\n      <th></th>\n      <th>150transportPoint</th>\n      <th>1</th>\n      <th>2</th>\n      <th>3</th>\n      <th>4</th>\n      <th>5</th>\n      <th>6</th>\n      <th>7</th>\n      <th>8</th>\n      <th>9</th>\n      <th>...</th>\n      <th>1095</th>\n      <th>1096</th>\n      <th>1097</th>\n      <th>1098</th>\n      <th>1099</th>\n      <th>1100</th>\n      <th>1101</th>\n      <th>1102</th>\n      <th>1103</th>\n      <th>1104</th>\n    </tr>\n  </thead>\n  <tbody>\n    <tr>\n      <th>0</th>\n      <td>Time</td>\n      <td>: Concentration - component 1</td>\n      <td>: Concentration - component 1</td>\n      <td>: Concentration - component 1</td>\n      <td>: Concentration - component 1</td>\n      <td>: Concentration - component 1</td>\n      <td>: Concentration - component 1</td>\n      <td>: Concentration - component 1</td>\n      <td>: Concentration - component 1</td>\n      <td>: Concentration - component 1</td>\n      <td>...</td>\n      <td>: Concentration - component 1</td>\n      <td>: Concentration - component 1</td>\n      <td>: Concentration - component 1</td>\n      <td>: Concentration - component 1</td>\n      <td>: Concentration - component 1</td>\n      <td>: Concentration - component 1</td>\n      <td>: Concentration - component 1</td>\n      <td>: Concentration - component 1</td>\n      <td>: Concentration - component 1</td>\n      <td>: Concentration - component 1</td>\n    </tr>\n    <tr>\n      <th>1</th>\n      <td>Unit</td>\n      <td>100201</td>\n      <td>99000</td>\n      <td>0</td>\n      <td>100201</td>\n      <td>99000</td>\n      <td>0</td>\n      <td>100201</td>\n      <td>99000</td>\n      <td>0</td>\n      <td>...</td>\n      <td>0</td>\n      <td>100201</td>\n      <td>99000</td>\n      <td>0</td>\n      <td>100201</td>\n      <td>99000</td>\n      <td>0</td>\n      <td>100201</td>\n      <td>99000</td>\n      <td>0</td>\n    </tr>\n    <tr>\n      <th>2</th>\n      <td>2018/1/1 0:00</td>\n      <td>100</td>\n      <td>100</td>\n      <td>100</td>\n      <td>100</td>\n      <td>100</td>\n      <td>100</td>\n      <td>100</td>\n      <td>100</td>\n      <td>100</td>\n      <td>...</td>\n      <td>100</td>\n      <td>100</td>\n      <td>100</td>\n      <td>100</td>\n      <td>100</td>\n      <td>100</td>\n      <td>100</td>\n      <td>100</td>\n      <td>100</td>\n      <td>100</td>\n    </tr>\n    <tr>\n      <th>3</th>\n      <td>2018/1/1 0:50</td>\n      <td>100</td>\n      <td>100</td>\n      <td>100</td>\n      <td>100</td>\n      <td>100</td>\n      <td>100</td>\n      <td>100</td>\n      <td>100</td>\n      <td>100</td>\n      <td>...</td>\n      <td>100</td>\n      <td>100</td>\n      <td>100</td>\n      <td>100</td>\n      <td>100</td>\n      <td>100</td>\n      <td>100</td>\n      <td>100</td>\n      <td>100</td>\n      <td>100</td>\n    </tr>\n    <tr>\n      <th>4</th>\n      <td>2018/1/1 1:40</td>\n      <td>100</td>\n      <td>100</td>\n      <td>100</td>\n      <td>100</td>\n      <td>100</td>\n      <td>100</td>\n      <td>100</td>\n      <td>100</td>\n      <td>100</td>\n      <td>...</td>\n      <td>100</td>\n      <td>100</td>\n      <td>100</td>\n      <td>100</td>\n      <td>100</td>\n      <td>100</td>\n      <td>100</td>\n      <td>100</td>\n      <td>100</td>\n      <td>100</td>\n    </tr>\n    <tr>\n      <th>5</th>\n      <td>2018/1/1 2:30</td>\n      <td>100</td>\n      <td>100</td>\n      <td>100</td>\n      <td>100</td>\n      <td>100</td>\n      <td>100</td>\n      <td>100</td>\n      <td>100</td>\n      <td>100</td>\n      <td>...</td>\n      <td>100</td>\n      <td>100</td>\n      <td>100</td>\n      <td>100</td>\n      <td>100</td>\n      <td>100</td>\n      <td>100</td>\n      <td>100</td>\n      <td>100</td>\n      <td>100</td>\n    </tr>\n    <tr>\n      <th>6</th>\n      <td>2018/1/1 3:20</td>\n      <td>100</td>\n      <td>100</td>\n      <td>100</td>\n      <td>100</td>\n      <td>100</td>\n      <td>100</td>\n      <td>100</td>\n      <td>100</td>\n      <td>100</td>\n      <td>...</td>\n      <td>100</td>\n      <td>100</td>\n      <td>100</td>\n      <td>100</td>\n      <td>100</td>\n      <td>100</td>\n      <td>100</td>\n      <td>100</td>\n      <td>100</td>\n      <td>100</td>\n    </tr>\n    <tr>\n      <th>7</th>\n      <td>2018/1/1 4:10</td>\n      <td>100</td>\n      <td>100</td>\n      <td>100</td>\n      <td>100</td>\n      <td>100</td>\n      <td>100</td>\n      <td>100</td>\n      <td>100</td>\n      <td>100</td>\n      <td>...</td>\n      <td>100</td>\n      <td>100</td>\n      <td>100</td>\n      <td>100</td>\n      <td>100</td>\n      <td>100</td>\n      <td>100</td>\n      <td>100</td>\n      <td>100</td>\n      <td>100</td>\n    </tr>\n    <tr>\n      <th>8</th>\n      <td>2018/1/1 5:00</td>\n      <td>100</td>\n      <td>100</td>\n      <td>100</td>\n      <td>100</td>\n      <td>100</td>\n      <td>100</td>\n      <td>100</td>\n      <td>100</td>\n      <td>100</td>\n      <td>...</td>\n      <td>100</td>\n      <td>100</td>\n      <td>100</td>\n      <td>100</td>\n      <td>100</td>\n      <td>100</td>\n      <td>100</td>\n      <td>100</td>\n      <td>100</td>\n      <td>100</td>\n    </tr>\n    <tr>\n      <th>9</th>\n      <td>2018/1/1 5:50</td>\n      <td>100</td>\n      <td>100</td>\n      <td>100</td>\n      <td>100</td>\n      <td>100</td>\n      <td>100</td>\n      <td>100</td>\n      <td>100</td>\n      <td>100</td>\n      <td>...</td>\n      <td>100</td>\n      <td>100</td>\n      <td>100</td>\n      <td>100</td>\n      <td>100</td>\n      <td>100</td>\n      <td>100</td>\n      <td>100</td>\n      <td>100</td>\n      <td>100</td>\n    </tr>\n  </tbody>\n</table>\n<p>10 rows × 1105 columns</p>\n</div>"
     },
     "metadata": {},
     "execution_count": 10
    }
   ],
   "source": [
    "whole_data.head(10)"
   ]
  },
  {
   "cell_type": "code",
   "execution_count": 46,
   "metadata": {},
   "outputs": [
    {
     "output_type": "error",
     "ename": "KeyError",
     "evalue": "'3'",
     "traceback": [
      "\u001b[1;31m---------------------------------------------------------------------------\u001b[0m",
      "\u001b[1;31mKeyError\u001b[0m                                  Traceback (most recent call last)",
      "\u001b[1;32m~\\AppData\\Local\\Programs\\Python\\Python38\\lib\\site-packages\\pandas\\core\\indexes\\base.py\u001b[0m in \u001b[0;36mget_loc\u001b[1;34m(self, key, method, tolerance)\u001b[0m\n\u001b[0;32m   2890\u001b[0m             \u001b[1;32mtry\u001b[0m\u001b[1;33m:\u001b[0m\u001b[1;33m\u001b[0m\u001b[1;33m\u001b[0m\u001b[0m\n\u001b[1;32m-> 2891\u001b[1;33m                 \u001b[1;32mreturn\u001b[0m \u001b[0mself\u001b[0m\u001b[1;33m.\u001b[0m\u001b[0m_engine\u001b[0m\u001b[1;33m.\u001b[0m\u001b[0mget_loc\u001b[0m\u001b[1;33m(\u001b[0m\u001b[0mcasted_key\u001b[0m\u001b[1;33m)\u001b[0m\u001b[1;33m\u001b[0m\u001b[1;33m\u001b[0m\u001b[0m\n\u001b[0m\u001b[0;32m   2892\u001b[0m             \u001b[1;32mexcept\u001b[0m \u001b[0mKeyError\u001b[0m \u001b[1;32mas\u001b[0m \u001b[0merr\u001b[0m\u001b[1;33m:\u001b[0m\u001b[1;33m\u001b[0m\u001b[1;33m\u001b[0m\u001b[0m\n",
      "\u001b[1;32mpandas\\_libs\\index.pyx\u001b[0m in \u001b[0;36mpandas._libs.index.IndexEngine.get_loc\u001b[1;34m()\u001b[0m\n",
      "\u001b[1;32mpandas\\_libs\\index.pyx\u001b[0m in \u001b[0;36mpandas._libs.index.IndexEngine.get_loc\u001b[1;34m()\u001b[0m\n",
      "\u001b[1;32mpandas\\_libs\\hashtable_class_helper.pxi\u001b[0m in \u001b[0;36mpandas._libs.hashtable.PyObjectHashTable.get_item\u001b[1;34m()\u001b[0m\n",
      "\u001b[1;32mpandas\\_libs\\hashtable_class_helper.pxi\u001b[0m in \u001b[0;36mpandas._libs.hashtable.PyObjectHashTable.get_item\u001b[1;34m()\u001b[0m\n",
      "\u001b[1;31mKeyError\u001b[0m: '3'",
      "\nThe above exception was the direct cause of the following exception:\n",
      "\u001b[1;31mKeyError\u001b[0m                                  Traceback (most recent call last)",
      "\u001b[1;32m<ipython-input-46-c9aad2b7ddb3>\u001b[0m in \u001b[0;36m<module>\u001b[1;34m\u001b[0m\n\u001b[1;32m----> 1\u001b[1;33m \u001b[0mtemp\u001b[0m \u001b[1;33m=\u001b[0m \u001b[0mwhole_data\u001b[0m\u001b[1;33m.\u001b[0m\u001b[0mloc\u001b[0m\u001b[1;33m[\u001b[0m\u001b[1;33m:\u001b[0m\u001b[1;33m,\u001b[0m\u001b[1;34m'3'\u001b[0m\u001b[1;33m]\u001b[0m  \u001b[1;31m#试试好不好使\u001b[0m\u001b[1;33m\u001b[0m\u001b[1;33m\u001b[0m\u001b[0m\n\u001b[0m\u001b[0;32m      2\u001b[0m \u001b[0mtemp\u001b[0m \u001b[1;33m=\u001b[0m \u001b[0mtemp\u001b[0m\u001b[1;33m[\u001b[0m\u001b[1;36m2\u001b[0m\u001b[1;33m:\u001b[0m\u001b[1;33m]\u001b[0m\u001b[1;33m\u001b[0m\u001b[1;33m\u001b[0m\u001b[0m\n\u001b[0;32m      3\u001b[0m \u001b[0mtemp\u001b[0m\u001b[1;33m\u001b[0m\u001b[1;33m\u001b[0m\u001b[0m\n\u001b[0;32m      4\u001b[0m \u001b[0mprint\u001b[0m\u001b[1;33m(\u001b[0m\u001b[0mres\u001b[0m\u001b[1;33m)\u001b[0m\u001b[1;33m\u001b[0m\u001b[1;33m\u001b[0m\u001b[0m\n\u001b[0;32m      5\u001b[0m \u001b[0mprint\u001b[0m\u001b[1;33m(\u001b[0m\u001b[0mlen\u001b[0m\u001b[1;33m(\u001b[0m\u001b[0mtemp\u001b[0m\u001b[1;33m)\u001b[0m\u001b[1;33m)\u001b[0m\u001b[1;33m\u001b[0m\u001b[1;33m\u001b[0m\u001b[0m\n",
      "\u001b[1;32m~\\AppData\\Local\\Programs\\Python\\Python38\\lib\\site-packages\\pandas\\core\\indexing.py\u001b[0m in \u001b[0;36m__getitem__\u001b[1;34m(self, key)\u001b[0m\n\u001b[0;32m    871\u001b[0m                     \u001b[1;31m# AttributeError for IntervalTree get_value\u001b[0m\u001b[1;33m\u001b[0m\u001b[1;33m\u001b[0m\u001b[1;33m\u001b[0m\u001b[0m\n\u001b[0;32m    872\u001b[0m                     \u001b[1;32mpass\u001b[0m\u001b[1;33m\u001b[0m\u001b[1;33m\u001b[0m\u001b[0m\n\u001b[1;32m--> 873\u001b[1;33m             \u001b[1;32mreturn\u001b[0m \u001b[0mself\u001b[0m\u001b[1;33m.\u001b[0m\u001b[0m_getitem_tuple\u001b[0m\u001b[1;33m(\u001b[0m\u001b[0mkey\u001b[0m\u001b[1;33m)\u001b[0m\u001b[1;33m\u001b[0m\u001b[1;33m\u001b[0m\u001b[0m\n\u001b[0m\u001b[0;32m    874\u001b[0m         \u001b[1;32melse\u001b[0m\u001b[1;33m:\u001b[0m\u001b[1;33m\u001b[0m\u001b[1;33m\u001b[0m\u001b[0m\n\u001b[0;32m    875\u001b[0m             \u001b[1;31m# we by definition only have the 0th axis\u001b[0m\u001b[1;33m\u001b[0m\u001b[1;33m\u001b[0m\u001b[1;33m\u001b[0m\u001b[0m\n",
      "\u001b[1;32m~\\AppData\\Local\\Programs\\Python\\Python38\\lib\\site-packages\\pandas\\core\\indexing.py\u001b[0m in \u001b[0;36m_getitem_tuple\u001b[1;34m(self, tup)\u001b[0m\n\u001b[0;32m   1042\u001b[0m     \u001b[1;32mdef\u001b[0m \u001b[0m_getitem_tuple\u001b[0m\u001b[1;33m(\u001b[0m\u001b[0mself\u001b[0m\u001b[1;33m,\u001b[0m \u001b[0mtup\u001b[0m\u001b[1;33m:\u001b[0m \u001b[0mTuple\u001b[0m\u001b[1;33m)\u001b[0m\u001b[1;33m:\u001b[0m\u001b[1;33m\u001b[0m\u001b[1;33m\u001b[0m\u001b[0m\n\u001b[0;32m   1043\u001b[0m         \u001b[1;32mtry\u001b[0m\u001b[1;33m:\u001b[0m\u001b[1;33m\u001b[0m\u001b[1;33m\u001b[0m\u001b[0m\n\u001b[1;32m-> 1044\u001b[1;33m             \u001b[1;32mreturn\u001b[0m \u001b[0mself\u001b[0m\u001b[1;33m.\u001b[0m\u001b[0m_getitem_lowerdim\u001b[0m\u001b[1;33m(\u001b[0m\u001b[0mtup\u001b[0m\u001b[1;33m)\u001b[0m\u001b[1;33m\u001b[0m\u001b[1;33m\u001b[0m\u001b[0m\n\u001b[0m\u001b[0;32m   1045\u001b[0m         \u001b[1;32mexcept\u001b[0m \u001b[0mIndexingError\u001b[0m\u001b[1;33m:\u001b[0m\u001b[1;33m\u001b[0m\u001b[1;33m\u001b[0m\u001b[0m\n\u001b[0;32m   1046\u001b[0m             \u001b[1;32mpass\u001b[0m\u001b[1;33m\u001b[0m\u001b[1;33m\u001b[0m\u001b[0m\n",
      "\u001b[1;32m~\\AppData\\Local\\Programs\\Python\\Python38\\lib\\site-packages\\pandas\\core\\indexing.py\u001b[0m in \u001b[0;36m_getitem_lowerdim\u001b[1;34m(self, tup)\u001b[0m\n\u001b[0;32m    784\u001b[0m                 \u001b[1;31m# We don't need to check for tuples here because those are\u001b[0m\u001b[1;33m\u001b[0m\u001b[1;33m\u001b[0m\u001b[1;33m\u001b[0m\u001b[0m\n\u001b[0;32m    785\u001b[0m                 \u001b[1;31m#  caught by the _is_nested_tuple_indexer check above.\u001b[0m\u001b[1;33m\u001b[0m\u001b[1;33m\u001b[0m\u001b[1;33m\u001b[0m\u001b[0m\n\u001b[1;32m--> 786\u001b[1;33m                 \u001b[0msection\u001b[0m \u001b[1;33m=\u001b[0m \u001b[0mself\u001b[0m\u001b[1;33m.\u001b[0m\u001b[0m_getitem_axis\u001b[0m\u001b[1;33m(\u001b[0m\u001b[0mkey\u001b[0m\u001b[1;33m,\u001b[0m \u001b[0maxis\u001b[0m\u001b[1;33m=\u001b[0m\u001b[0mi\u001b[0m\u001b[1;33m)\u001b[0m\u001b[1;33m\u001b[0m\u001b[1;33m\u001b[0m\u001b[0m\n\u001b[0m\u001b[0;32m    787\u001b[0m \u001b[1;33m\u001b[0m\u001b[0m\n\u001b[0;32m    788\u001b[0m                 \u001b[1;31m# We should never have a scalar section here, because\u001b[0m\u001b[1;33m\u001b[0m\u001b[1;33m\u001b[0m\u001b[1;33m\u001b[0m\u001b[0m\n",
      "\u001b[1;32m~\\AppData\\Local\\Programs\\Python\\Python38\\lib\\site-packages\\pandas\\core\\indexing.py\u001b[0m in \u001b[0;36m_getitem_axis\u001b[1;34m(self, key, axis)\u001b[0m\n\u001b[0;32m   1108\u001b[0m         \u001b[1;31m# fall thru to straight lookup\u001b[0m\u001b[1;33m\u001b[0m\u001b[1;33m\u001b[0m\u001b[1;33m\u001b[0m\u001b[0m\n\u001b[0;32m   1109\u001b[0m         \u001b[0mself\u001b[0m\u001b[1;33m.\u001b[0m\u001b[0m_validate_key\u001b[0m\u001b[1;33m(\u001b[0m\u001b[0mkey\u001b[0m\u001b[1;33m,\u001b[0m \u001b[0maxis\u001b[0m\u001b[1;33m)\u001b[0m\u001b[1;33m\u001b[0m\u001b[1;33m\u001b[0m\u001b[0m\n\u001b[1;32m-> 1110\u001b[1;33m         \u001b[1;32mreturn\u001b[0m \u001b[0mself\u001b[0m\u001b[1;33m.\u001b[0m\u001b[0m_get_label\u001b[0m\u001b[1;33m(\u001b[0m\u001b[0mkey\u001b[0m\u001b[1;33m,\u001b[0m \u001b[0maxis\u001b[0m\u001b[1;33m=\u001b[0m\u001b[0maxis\u001b[0m\u001b[1;33m)\u001b[0m\u001b[1;33m\u001b[0m\u001b[1;33m\u001b[0m\u001b[0m\n\u001b[0m\u001b[0;32m   1111\u001b[0m \u001b[1;33m\u001b[0m\u001b[0m\n\u001b[0;32m   1112\u001b[0m     \u001b[1;32mdef\u001b[0m \u001b[0m_get_slice_axis\u001b[0m\u001b[1;33m(\u001b[0m\u001b[0mself\u001b[0m\u001b[1;33m,\u001b[0m \u001b[0mslice_obj\u001b[0m\u001b[1;33m:\u001b[0m \u001b[0mslice\u001b[0m\u001b[1;33m,\u001b[0m \u001b[0maxis\u001b[0m\u001b[1;33m:\u001b[0m \u001b[0mint\u001b[0m\u001b[1;33m)\u001b[0m\u001b[1;33m:\u001b[0m\u001b[1;33m\u001b[0m\u001b[1;33m\u001b[0m\u001b[0m\n",
      "\u001b[1;32m~\\AppData\\Local\\Programs\\Python\\Python38\\lib\\site-packages\\pandas\\core\\indexing.py\u001b[0m in \u001b[0;36m_get_label\u001b[1;34m(self, label, axis)\u001b[0m\n\u001b[0;32m   1057\u001b[0m     \u001b[1;32mdef\u001b[0m \u001b[0m_get_label\u001b[0m\u001b[1;33m(\u001b[0m\u001b[0mself\u001b[0m\u001b[1;33m,\u001b[0m \u001b[0mlabel\u001b[0m\u001b[1;33m,\u001b[0m \u001b[0maxis\u001b[0m\u001b[1;33m:\u001b[0m \u001b[0mint\u001b[0m\u001b[1;33m)\u001b[0m\u001b[1;33m:\u001b[0m\u001b[1;33m\u001b[0m\u001b[1;33m\u001b[0m\u001b[0m\n\u001b[0;32m   1058\u001b[0m         \u001b[1;31m# GH#5667 this will fail if the label is not present in the axis.\u001b[0m\u001b[1;33m\u001b[0m\u001b[1;33m\u001b[0m\u001b[1;33m\u001b[0m\u001b[0m\n\u001b[1;32m-> 1059\u001b[1;33m         \u001b[1;32mreturn\u001b[0m \u001b[0mself\u001b[0m\u001b[1;33m.\u001b[0m\u001b[0mobj\u001b[0m\u001b[1;33m.\u001b[0m\u001b[0mxs\u001b[0m\u001b[1;33m(\u001b[0m\u001b[0mlabel\u001b[0m\u001b[1;33m,\u001b[0m \u001b[0maxis\u001b[0m\u001b[1;33m=\u001b[0m\u001b[0maxis\u001b[0m\u001b[1;33m)\u001b[0m\u001b[1;33m\u001b[0m\u001b[1;33m\u001b[0m\u001b[0m\n\u001b[0m\u001b[0;32m   1060\u001b[0m \u001b[1;33m\u001b[0m\u001b[0m\n\u001b[0;32m   1061\u001b[0m     \u001b[1;32mdef\u001b[0m \u001b[0m_handle_lowerdim_multi_index_axis0\u001b[0m\u001b[1;33m(\u001b[0m\u001b[0mself\u001b[0m\u001b[1;33m,\u001b[0m \u001b[0mtup\u001b[0m\u001b[1;33m:\u001b[0m \u001b[0mTuple\u001b[0m\u001b[1;33m)\u001b[0m\u001b[1;33m:\u001b[0m\u001b[1;33m\u001b[0m\u001b[1;33m\u001b[0m\u001b[0m\n",
      "\u001b[1;32m~\\AppData\\Local\\Programs\\Python\\Python38\\lib\\site-packages\\pandas\\core\\generic.py\u001b[0m in \u001b[0;36mxs\u001b[1;34m(self, key, axis, level, drop_level)\u001b[0m\n\u001b[0;32m   3480\u001b[0m \u001b[1;33m\u001b[0m\u001b[0m\n\u001b[0;32m   3481\u001b[0m         \u001b[1;32mif\u001b[0m \u001b[0maxis\u001b[0m \u001b[1;33m==\u001b[0m \u001b[1;36m1\u001b[0m\u001b[1;33m:\u001b[0m\u001b[1;33m\u001b[0m\u001b[1;33m\u001b[0m\u001b[0m\n\u001b[1;32m-> 3482\u001b[1;33m             \u001b[1;32mreturn\u001b[0m \u001b[0mself\u001b[0m\u001b[1;33m[\u001b[0m\u001b[0mkey\u001b[0m\u001b[1;33m]\u001b[0m\u001b[1;33m\u001b[0m\u001b[1;33m\u001b[0m\u001b[0m\n\u001b[0m\u001b[0;32m   3483\u001b[0m \u001b[1;33m\u001b[0m\u001b[0m\n\u001b[0;32m   3484\u001b[0m         \u001b[0mindex\u001b[0m \u001b[1;33m=\u001b[0m \u001b[0mself\u001b[0m\u001b[1;33m.\u001b[0m\u001b[0mindex\u001b[0m\u001b[1;33m\u001b[0m\u001b[1;33m\u001b[0m\u001b[0m\n",
      "\u001b[1;32m~\\AppData\\Local\\Programs\\Python\\Python38\\lib\\site-packages\\pandas\\core\\frame.py\u001b[0m in \u001b[0;36m__getitem__\u001b[1;34m(self, key)\u001b[0m\n\u001b[0;32m   2900\u001b[0m             \u001b[1;32mif\u001b[0m \u001b[0mself\u001b[0m\u001b[1;33m.\u001b[0m\u001b[0mcolumns\u001b[0m\u001b[1;33m.\u001b[0m\u001b[0mnlevels\u001b[0m \u001b[1;33m>\u001b[0m \u001b[1;36m1\u001b[0m\u001b[1;33m:\u001b[0m\u001b[1;33m\u001b[0m\u001b[1;33m\u001b[0m\u001b[0m\n\u001b[0;32m   2901\u001b[0m                 \u001b[1;32mreturn\u001b[0m \u001b[0mself\u001b[0m\u001b[1;33m.\u001b[0m\u001b[0m_getitem_multilevel\u001b[0m\u001b[1;33m(\u001b[0m\u001b[0mkey\u001b[0m\u001b[1;33m)\u001b[0m\u001b[1;33m\u001b[0m\u001b[1;33m\u001b[0m\u001b[0m\n\u001b[1;32m-> 2902\u001b[1;33m             \u001b[0mindexer\u001b[0m \u001b[1;33m=\u001b[0m \u001b[0mself\u001b[0m\u001b[1;33m.\u001b[0m\u001b[0mcolumns\u001b[0m\u001b[1;33m.\u001b[0m\u001b[0mget_loc\u001b[0m\u001b[1;33m(\u001b[0m\u001b[0mkey\u001b[0m\u001b[1;33m)\u001b[0m\u001b[1;33m\u001b[0m\u001b[1;33m\u001b[0m\u001b[0m\n\u001b[0m\u001b[0;32m   2903\u001b[0m             \u001b[1;32mif\u001b[0m \u001b[0mis_integer\u001b[0m\u001b[1;33m(\u001b[0m\u001b[0mindexer\u001b[0m\u001b[1;33m)\u001b[0m\u001b[1;33m:\u001b[0m\u001b[1;33m\u001b[0m\u001b[1;33m\u001b[0m\u001b[0m\n\u001b[0;32m   2904\u001b[0m                 \u001b[0mindexer\u001b[0m \u001b[1;33m=\u001b[0m \u001b[1;33m[\u001b[0m\u001b[0mindexer\u001b[0m\u001b[1;33m]\u001b[0m\u001b[1;33m\u001b[0m\u001b[1;33m\u001b[0m\u001b[0m\n",
      "\u001b[1;32m~\\AppData\\Local\\Programs\\Python\\Python38\\lib\\site-packages\\pandas\\core\\indexes\\base.py\u001b[0m in \u001b[0;36mget_loc\u001b[1;34m(self, key, method, tolerance)\u001b[0m\n\u001b[0;32m   2891\u001b[0m                 \u001b[1;32mreturn\u001b[0m \u001b[0mself\u001b[0m\u001b[1;33m.\u001b[0m\u001b[0m_engine\u001b[0m\u001b[1;33m.\u001b[0m\u001b[0mget_loc\u001b[0m\u001b[1;33m(\u001b[0m\u001b[0mcasted_key\u001b[0m\u001b[1;33m)\u001b[0m\u001b[1;33m\u001b[0m\u001b[1;33m\u001b[0m\u001b[0m\n\u001b[0;32m   2892\u001b[0m             \u001b[1;32mexcept\u001b[0m \u001b[0mKeyError\u001b[0m \u001b[1;32mas\u001b[0m \u001b[0merr\u001b[0m\u001b[1;33m:\u001b[0m\u001b[1;33m\u001b[0m\u001b[1;33m\u001b[0m\u001b[0m\n\u001b[1;32m-> 2893\u001b[1;33m                 \u001b[1;32mraise\u001b[0m \u001b[0mKeyError\u001b[0m\u001b[1;33m(\u001b[0m\u001b[0mkey\u001b[0m\u001b[1;33m)\u001b[0m \u001b[1;32mfrom\u001b[0m \u001b[0merr\u001b[0m\u001b[1;33m\u001b[0m\u001b[1;33m\u001b[0m\u001b[0m\n\u001b[0m\u001b[0;32m   2894\u001b[0m \u001b[1;33m\u001b[0m\u001b[0m\n\u001b[0;32m   2895\u001b[0m         \u001b[1;32mif\u001b[0m \u001b[0mtolerance\u001b[0m \u001b[1;32mis\u001b[0m \u001b[1;32mnot\u001b[0m \u001b[1;32mNone\u001b[0m\u001b[1;33m:\u001b[0m\u001b[1;33m\u001b[0m\u001b[1;33m\u001b[0m\u001b[0m\n",
      "\u001b[1;31mKeyError\u001b[0m: '3'"
     ]
    }
   ],
   "source": [
    "temp = whole_data.loc[:,'3']  #试试好不好使\n",
    "temp = temp[2:]\n",
    "temp\n",
    "print(res)\n",
    "print(len(temp))\n",
    "i = 2 \n",
    "while i < len(temp):\n",
    "    if float(temp[i]) <= 37:\n",
    "        break \n",
    "    i += 1\n",
    "res.append(i)\n",
    "print(res)\n"
   ]
  },
  {
   "cell_type": "code",
   "execution_count": 19,
   "metadata": {
    "tags": []
   },
   "outputs": [
    {
     "output_type": "stream",
     "name": "stdout",
     "text": [
      "[2396, 2387, 2388, 2384, 2387, 2386, 2410, 2387, 2566, 2564, 2500, 2565, 2557, 2410, 2562, 2337, 2475, 2382, 2328, 2386, 2386, 2387, 2339, 2352, 2554, 2540, 2567, 2565, 2352, 2392, 2382, 2396, 2434, 2387, 2387, 2387, 2378, 2409, 2387, 2368, 2387, 2387, 2389, 2389, 2411, 2380, 2370, 2400, 2383, 2567, 2375, 2407, 2389, 2360, 2363, 2393, 2405, 2387, 2390, 2384, 2390, 2383, 2397, 2399, 2410, 2395, 2414, 2396, 2409, 2411, 2411, 2368, 2372, 2415, 2334, 2386, 2387, 2405, 2412, 2502, 2567, 2555, 2458, 2421, 2472, 2512, 2401, 2325, 2345, 2457, 2394, 2401, 2390, 2356, 2353, 2376, 2358, 2385, 2349, 2473, 2339, 2356, 2411, 2367, 2323, 2375, 2341, 2549, 2567, 2526, 2533, 2535, 2557, 2528, 2560, 2535, 2561, 2480, 2543, 2464, 2534, 2558, 2551, 2428, 2368, 2380, 2471, 2395, 2467, 2499, 2534, 2511, 2522, 2517, 2488, 2517, 2495, 2511, 2486, 2384, 2380, 2358, 2361, 2365, 2375, 2370, 2411, 2356, 2535, 2527, 2470, 2525, 2381, 2386, 2373, 2375, 2380, 2375, 2381, 2370, 2383, 2377, 2377, 2361, 2351, 2343, 2350, 2350, 2347, 2333, 2338, 2334, 2337, 2349, 2378, 2360, 2366, 2349, 2326, 2326, 2336, 2367, 2352, 2359, 2364, 2351, 2356, 2346, 2371, 2341, 2374, 2355, 2378, 2377, 2385, 2379, 2381, 2389, 2381, 2362, 2374, 2359, 2352, 2359, 2349, 2408, 2365, 2364, 2343, 2400, 2361, 2384, 2352, 2350, 2378, 2399, 2397, 2434, 2398, 2423, 2374, 2366, 2365, 2491, 2527, 2383, 2486, 2446, 2485, 2508, 2505, 2525, 2495, 2524, 2402, 2539, 2502, 2545, 2546, 2544, 2541, 2512, 2513, 2446, 2390, 2382, 2375, 2384, 2375, 2393, 2390, 2423, 2439, 2426, 2394, 2384, 2385, 2380, 2374, 2365, 2379, 2384, 2366, 2351, 2348, 2343, 2339, 2345, 2346, 2341, 2340, 2371, 2342, 2361, 2368, 2341, 2339, 2332, 2350, 2342, 2350, 2398, 2351, 2342, 2332, 2323, 2373, 2374, 2369, 2375, 2364, 2415, 2418, 2355, 2383, 2375, 2404, 2368, 2383, 2369, 2378, 2408, 2409, 2388, 2389, 2357, 2395, 2391, 2388, 2367, 2379, 2330, 2322, 2327, 2324, 2333, 2327, 2333, 2324, 2320, 2339, 2345, 2322, 2329, 2334, 2323, 2355, 2342, 2330, 2342, 2360, 2394, 2365, 2377, 2330, 2328, 2331, 2325, 2331, 2322, 2328, 2340, 2333, 2338, 2343, 2345, 2340, 2327, 2345, 2342, 2349, 2355, 2374, 2361, 2349, 2353, 2380, 2359, 2336, 2338, 2378, 2375, 2367, 2361, 2365, 2373, 2356, 2348, 2362, 2345, 2353, 2346, 2359, 2353, 2375, 2370, 2369, 2374, 2368, 2375, 2376, 2364, 2361, 2376, 2377, 2354, 2376, 2356, 2376, 2376, 2367, 2362, 2369, 2369, 2376, 2376, 2366, 2366, 2335, 2342, 2333, 2335, 2330, 2343, 2378, 2370, 2515, 2482, 2487, 2496, 2491, 2477, 2368, 2353, 2353, 2360, 2354, 2367, 2350, 2350, 2344, 2359, 2355, 2385, 2348, 2351, 2349, 2365, 2373, 2400, 2344, 2348, 2338, 2337, 2337, 2333, 2337, 2337, 2343, 2338, 2347, 2345, 2340, 2347, 2342, 2349, 2339, 2338, 2363, 2367, 2331, 2336, 2334, 2374, 2350, 2362, 2371, 2390, 2361, 2388, 2330, 2334, 2534, 2541, 2496, 2501, 2393, 2390, 2368, 2398, 2386, 2381, 2385, 2389, 2384, 2390, 2399, 2407, 2410, 2414, 2413, 2414, 2412, 2415, 2414, 2415, 2412, 2413, 2401, 2386, 2406, 2399, 2406, 2386, 2394, 2345, 2370, 2375, 2348, 2405, 2409, 2399, 2397, 2401, 2402, 2396, 2391, 2382, 2395, 2380, 2382, 2382, 2388, 2387, 2399, 2404, 2401, 2396, 2394, 2413, 2414, 2416, 2380, 2382, 2377, 2383, 2381, 2378, 2379, 2378, 2380, 2382, 2374, 2377, 2371, 2374, 2400, 2374, 2397, 2505, 2546, 2332, 2324, 2328, 2328, 2328, 2335, 2338, 2337, 2333, 2333, 2337, 2336, 2378, 2377, 2376, 2373, 2376, 2378, 2348, 2349, 2352, 2356, 2351, 2357, 2360, 2348, 2367, 2379, 2366, 2374, 2371, 2380, 2357, 2357, 2361, 2345, 2330, 2332, 2327, 2324, 2328, 2323, 2329, 2323, 2326, 2338, 2337, 2349, 2356, 2348, 2353, 2344, 2344, 2344, 2338, 2390, 2396, 2320, 2326, 2320, 2323, 2323, 2326, 2396, 2349, 2360, 2347, 2369, 2387, 2386, 2318, 2320, 2320, 2323, 2399, 2392, 2529, 2523, 2524, 2536, 2515, 2530, 2511, 2499, 2505, 2328, 2330, 2475, 2471, 2395, 2402, 2500, 2503, 2382, 2384, 2389, 2383, 2381, 2385, 2392, 2377, 2383, 2401, 2405, 2407, 2403, 2404, 2412, 2409, 2409, 2415, 2411, 2412, 2407, 2432, 2517, 2460, 2399, 2427, 2397, 2387, 2384, 2386, 2390, 2550, 2549, 2548, 2536, 2553, 2553, 2524, 2538, 2530, 2383, 2382, 2383, 2385, 2382, 2384, 2381, 2377, 2382, 2381, 2379, 2382, 2379, 2382, 2380, 2375, 2383, 2377, 2370, 2372, 2382, 2381, 2375, 2367, 2377, 2370, 2367, 2358, 2369, 2356, 2353, 2353, 2380, 2378, 2349, 2346, 2343, 2356, 2353, 2343, 2347, 2346, 2357, 2347, 2379, 2376, 2369, 2479, 2460, 2364, 2373, 2358, 2366, 2346, 2345, 2351, 2354, 2352, 2364, 2354, 2345, 2365, 2370, 2359, 2358, 2365, 2382, 2372, 2407, 2422, 2494, 2371, 2375, 2446, 2404, 2465, 2482, 2477, 2491, 2478, 2464, 2513, 2479, 2506, 2548, 2545, 2546, 2385, 2382, 2387, 2384, 2380, 2377, 2353, 2362, 2350, 2357, 2356, 2348, 2360, 2359, 2345, 2347, 2346, 2342, 2343, 2342, 2352, 2345, 2341, 2345, 2338, 2340, 2345, 2341, 2341, 2337, 2340, 2335, 2336, 2336, 2401, 2409, 2416, 2406, 2391, 2405, 2409, 2404, 2388, 2421, 2418, 2412, 2422, 2418, 2410, 2413, 2399, 2380, 2395, 2377, 2402, 2379, 2410, 2412, 2421, 2416, 2411, 2384, 2367, 2384, 2388, 2365, 2366, 2372, 2325, 2321, 2319, 2319, 2323, 2322, 2324, 2325, 2324, 2325, 2325, 2327, 2331, 2337, 2326, 2323, 2346, 2335, 2347, 2341, 2328, 2326, 2328, 2326, 2327, 2329, 2327, 2330, 2330, 2331, 2347, 2339, 2340, 2335, 2344, 2338, 2349, 2348, 2348, 2355, 2361, 2355, 2355, 2364, 2353, 2357, 2348, 2342, 2333, 2331, 2360, 2368, 2361, 2360, 2363, 2368, 2353, 2358, 2353, 2349, 2349, 2342, 2352, 2351, 2355, 2359, 2362, 2358, 2374, 2376, 2370, 2375, 2368, 2366, 2364, 2369, 2374, 2366, 2363, 2361, 2367, 2366, 2361, 2369, 2362, 2366, 2372, 2369, 2369, 2373, 2362, 2370, 2374, 2369, 2375, 2372, 2360, 2358, 2362, 2362, 2359, 2361, 2377, 2364, 2378, 2370, 2379, 2377, 2376, 2376, 2378, 2375, 2377, 2377, 2379, 2381, 2381, 2385, 2341, 2342, 2336, 2335, 2337, 2343, 2331, 2331, 2374, 2375, 2491, 2495, 2487, 2471, 2474, 2481, 2354, 2348, 2352, 2358, 2346, 2351, 2384, 2400, 2342, 2346, 2407, 2393, 2357, 2369, 2349, 2349, 2369, 2360, 2373, 2371, 2390, 2395, 2402, 2406, 2407, 2406, 2414, 2411, 2415, 2415, 2415, 2412, 2413, 2414, 2413, 2415, 2415, 2415, 2413, 2414, 2410, 2414, 2414, 2402, 2407, 2409, 2409, 2408, 2405, 2392, 2400, 2401, 2393, 2385, 2383, 2383, 2391, 2388, 2371, 2375, 2361, 2338, 2413, 2413, 2406, 2408, 2405, 2405, 2391, 2382, 2395, 2396, 2384, 2385, 2408, 2403, 2400, 2391, 2395, 2382, 2415, 2416, 2415, 2415, 2378, 2379, 2376, 2373, 2370, 2371, 2375, 2372, 2333, 2335, 2337, 2338, 2331, 2331, 2332, 2335, 2338, 2333, 2334, 2336, 2339, 2340, 2345, 2334, 2336, 2342, 2333, 2330, 2333, 2333, 2414, 2415, 2416, 2414, 2352, 2362, 2375, 2374, 2346, 2348, 2416, 2388, 2395, 2373, 2360, 2360, 2373, 2358, 2360, 2347, 2345, 2369, 2369, 2414, 2415, 2386]\n"
     ]
    }
   ],
   "source": [
    "res = []  #存储每个点第一次出现小于37的数的位置的数组\n",
    "#for pointNum in range(1,1998):   #死水区缺点 只有1989个 \n",
    "for pointNum in range(1,1104):   #不是死水区的用上面那个数\n",
    "    numStr = str(pointNum)  #第numStr个点\n",
    "    tempPoint = whole_data.loc[:,numStr]\n",
    "    i = 2 \n",
    "    while i < len(tempPoint):\n",
    "        if float(tempPoint[i]) <= 37:\n",
    "            break \n",
    "        i += 1\n",
    "    res.append(i)\n",
    "print(res)"
   ]
  },
  {
   "cell_type": "code",
   "execution_count": null,
   "metadata": {},
   "outputs": [],
   "source": []
  }
 ]
}